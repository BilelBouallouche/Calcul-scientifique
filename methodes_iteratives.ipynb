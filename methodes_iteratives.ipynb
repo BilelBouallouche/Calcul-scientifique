{
 "cells": [
  {
   "cell_type": "code",
   "execution_count": 3,
   "metadata": {},
   "outputs": [
    {
     "name": "stdout",
     "output_type": "stream",
     "text": [
      "[[ 2. -1.  0.  0.  0.  0.]\n",
      " [-1.  2. -1.  0.  0.  0.]\n",
      " [ 0. -1.  2. -1.  0.  0.]\n",
      " [ 0.  0. -1.  2. -1.  0.]\n",
      " [ 0.  0.  0. -1.  2. -1.]\n",
      " [ 0.  0.  0.  0. -1.  2.]]\n"
     ]
    }
   ],
   "source": [
    "import numpy as np\n",
    "import matplotlib.pyplot as plt\n",
    "from math import sqrt\n",
    "\n",
    "#On construit A\n",
    "A = 2 * np.diag(np.ones(6)) - np.diag(np.ones(5),-1) - np.diag(np.ones(5),1)\n",
    "print(A)"
   ]
  },
  {
   "cell_type": "code",
   "execution_count": 4,
   "metadata": {},
   "outputs": [],
   "source": [
    "def mineurs(A):\n",
    "    \"\"\"\n",
    "    Renvoie les determinants mineurs d'une matrice A.\n",
    "    On se sert d'une définition par récurrence démontrée plus haut pour les determiner \n",
    "    un a un.\n",
    "    On note dk = |A_k| ou A_k est la matrice A ou l'on a supprime les n-k dernieres \n",
    "    lignes et colonnes\n",
    "    \"\"\"\n",
    "    n = len(A[0])\n",
    "    # on va operer des modifications sur la matrice (suppressions de lignes/colonnes)\n",
    "    # on prefere donc operer sur une copie\n",
    "    B = A.copy()\n",
    "    #par convention, le determinant mineur dans le cas k = 0 vaut 1\n",
    "    d0 = 1\n",
    "    \n",
    "    # On cherche a determiner d1, une premiere approche est\n",
    "    # de supprimer les n-1 dernieres lignes et colonnes\n",
    "    # puis de calculer le determinant avec numpy\n",
    "    #for k in range(n-1, 0, -1):\n",
    "    #    B = np.delete(B, k, 0)\n",
    "    #    B = np.delete(B, k, 1)\n",
    "    #d1 = np.linalg.det(B)\n",
    "    \n",
    "    #mais on peut remarquer que d1 corespond au determinant de la matrice A où \n",
    "    # l'on a supprimé les n-1 dernieres lignes et colonnes\n",
    "    # autrement dit c'est le scalaire A[0][0]\n",
    "    d1 = B[0][0]\n",
    "    #liste stockant tous les determinants mineurs\n",
    "    deltas = [d0, d1]\n",
    "    \n",
    "    for k in range(2, n+1):\n",
    "        # on applique ensuite la formule de recurrence pour deduire chacun des determinants\n",
    "        d = A[k-1][k-1]*deltas[k-1] - A[k-1][k-2]*A[k-1][k-2]*deltas[k-2]\n",
    "        # on les ajoute ensuite dans la liste\n",
    "        deltas.append(d)\n",
    "\n",
    "    return deltas"
   ]
  },
  {
   "cell_type": "code",
   "execution_count": 5,
   "metadata": {},
   "outputs": [],
   "source": [
    "def alphas(A):\n",
    "    \"\"\"\n",
    "        Implementation de la formule donnée pour calculer les alphas\n",
    "    \"\"\"\n",
    "    deltas = mineurs(A)\n",
    "    n = len(A[0])\n",
    "    \n",
    "    alphs = []\n",
    "    for k in range(1, n+1):\n",
    "        # On applique la formule de \\alpha_k\n",
    "        alphs.append(deltas[k]/deltas[k-1]) \n",
    "        \n",
    "    return alphs"
   ]
  },
  {
   "cell_type": "code",
   "execution_count": 6,
   "metadata": {},
   "outputs": [],
   "source": [
    "def decLU_tridiag(A):\n",
    "    \"\"\"\n",
    "    On sait que la decomposition LU d'une matrice tridiagonale prend\n",
    "    une forme particulière\n",
    "    on choisit donc de coder une implementation specifique \n",
    "    de la decomposition LU \n",
    "    dans le contexte de l'exercie où la matrice est tridiagonale.\n",
    "    On se sert de coefficients (\\alpha)_i calculé\n",
    "    \"\"\"\n",
    "    n = A.shape[0]\n",
    "    \n",
    "    #la matrie L (triang. inf) a des 1 sur sa diagonale principale\n",
    "    #on l'initialise donc comme etant la matrice identitee\n",
    "    L = np.eye(n)\n",
    "    \n",
    "    alphs = alphas(A)\n",
    "    #on connait la forme que doit prendre L\n",
    "    for i in range(0, n-1): #on va seulement jusqu'a n-1 car on modifie seulement sur diagonale inférieure\n",
    "        L[i+1][i] = A[i+1][i]/alphs[i]\n",
    "    \n",
    "    #on connait la forme que doit prendre U\n",
    "    U = np.zeros((n,n))\n",
    "    for i in range(0, n):\n",
    "        U[i][i] = alphs[i] #sur la diagonale de U, on a les coefficients alpha\n",
    "        if i < n-1: #sur la diagonale superieure de U, on a la diagonale supérieure de A\n",
    "            U[i][i+1] = A[i][i+1] \n",
    "             \n",
    "    return L, U"
   ]
  },
  {
   "cell_type": "code",
   "execution_count": 7,
   "metadata": {},
   "outputs": [],
   "source": [
    "\"\"\"\n",
    "Methodes pour construire une matrice \n",
    "issue de l'extraction de la partie inferieure/superieure à la \n",
    "diagonale de A\n",
    "\"\"\"\n",
    "\n",
    "def triangle_inf(A):\n",
    "    n = A.shape[0]\n",
    "    res = np.zeros((n,n))\n",
    "    for i in range(0, n):\n",
    "        for j in range(0, n):\n",
    "            if j < i:\n",
    "                res[i][j] = A[i][j]\n",
    "    return res\n",
    "\n",
    "def triangle_sup(A):\n",
    "    n = A.shape[0]\n",
    "    res = np.zeros((n,n))\n",
    "    for i in range(0, n):\n",
    "        for j in range(0, n):\n",
    "            if i < j:\n",
    "                res[i][j] = A[i][j]\n",
    "    return res"
   ]
  },
  {
   "cell_type": "code",
   "execution_count": 8,
   "metadata": {},
   "outputs": [],
   "source": [
    "def mjacobi(A, B, XINIT, tol, nmaxit):\n",
    "    \n",
    "    xk = XINIT\n",
    "    # On construit une matrice S inversible, facilement inversible. \n",
    "    # Pour cela, on considère la matrice diagonale en l'extrayant de A.\n",
    "    # Une matrice diagonale D = (di)_i non nulle est inversible \n",
    "    # et son inverse est (1/di)_i\n",
    "    D = np.diag(np.diag(A))\n",
    "    Di = np.linalg.inv(D)\n",
    "    \n",
    "    \n",
    "    # On construit une matrice T tel que A = D - L - U avec L/U triangulaire inferieure/superieure\n",
    "    L = -triangle_inf(A)\n",
    "    U = -triangle_sup(A)\n",
    "    \n",
    "    # On sait qu'une condition necessaire et suffisante a la convergence \n",
    "    # des methodes iteratives \n",
    "    # x_{k+1} = Mx_k + b est que le rayon spectral de M soit <= 1\n",
    "    # le rayon spectral en dimension finie est definie comme le maximum des valeurs propres\n",
    "    # Dans notre cas, M = D^{-1}(L+U)\n",
    "    if np.linalg.norm(np.linalg.eigvals(Di@(L+U)), np.inf) > 1:\n",
    "        return 0, np.zeros(XINIT.shape[0]), nmaxit\n",
    "    \n",
    "    # variable comptant le nombre d'iterations\n",
    "    # pour s'assurer que l'algorithme termine rapidement meme si la méthode de Jacobi ne converge pas assez rapidement\n",
    "    # vers la solution\n",
    "    iterations = 0\n",
    "    \n",
    "    #tant que ||Ax_k - B|| > tol c'est qu'on est encore éloigné d'une approximation satisfaisante de la solution\n",
    "    #tant que le nombre d'iterations est inferieure a la borne d'iterations max, on peut continuer d'iterer\n",
    "    while (np.linalg.norm(np.dot(A,xk) - B) > tol) and (iterations < nmaxit):\n",
    "        #on incremente le nombre d'iteration faits\n",
    "        iterations += 1\n",
    "        \n",
    "        #on se sert de la relation de recurrence dans le cas de la methode de Jacobi\n",
    "        xk = Di@np.dot(L+U, xk) + np.dot(Di, B)\n",
    "        \n",
    "        #Si ||Ax_k - B|| <= tol, nous sommes satisfait de notre approximation, nous mettons info = 1. \n",
    "        #C'est notre dernier tour de boucle\n",
    "        #if np.linalg.norm(np.dot(A,xk) - B) <= tol:\n",
    "        #    print(\"ici\")\n",
    "        #    info = 1\n",
    "    return 1, xk, iterations"
   ]
  },
  {
   "cell_type": "code",
   "execution_count": 9,
   "metadata": {},
   "outputs": [
    {
     "name": "stdout",
     "output_type": "stream",
     "text": [
      "(1, array([ 2.99890014,  4.99801811,  5.99752863,  5.99752863,  4.99801811,\n",
      "        2.99890014]), 75)\n"
     ]
    }
   ],
   "source": [
    "# On cherche a resoudre AX = B avec la methode de Jacobi pour B le vecteur dont chaque composante vaut 1\n",
    "# et XINIT = (0, \\dots, 0)\n",
    "# et pour une tolerance de 0.001 et au maximum 100 iterations\n",
    "B = np.ones(6)\n",
    "print(mjacobi(A, B, np.zeros(6), 0.001, 100))"
   ]
  },
  {
   "cell_type": "code",
   "execution_count": 10,
   "metadata": {},
   "outputs": [],
   "source": [
    "def mrelax(A, B, XINIT, w, tol, nmaxit):\n",
    "    xk = XINIT\n",
    "    iterations = 0\n",
    "    \n",
    "    # On construit une matrice S inversible, facilement inversible. \n",
    "    # Pour cela, on considère la matrice diagonale en l'extrayant de A.\n",
    "    # Une matrice diagonale D = (di) non nulle est inversible et son \n",
    "    # inverse est (1/di)\n",
    "    D = np.diag(np.diag(A))\n",
    "    \n",
    "    \n",
    "    # On construit une matrice T tel que A = D + L - U \n",
    "    # avec L/U triangulaire inferieure/superieure\n",
    "    L = -triangle_inf(A)\n",
    "    U = -triangle_sup(A)\n",
    "    \n",
    "    M = 1/w*D - L\n",
    "    Mi = np.linalg.inv(M)\n",
    "    N = (1-w)/w*D + U\n",
    "    \n",
    "    while (np.linalg.norm(np.dot(A,xk) - B) > tol) and (iterations < nmaxit):\n",
    "        iterations += 1\n",
    "        xk = np.dot(Mi@N, xk) + np.dot(Mi, B)\n",
    "    \n",
    "    return 1, xk, iterations"
   ]
  },
  {
   "cell_type": "code",
   "execution_count": 11,
   "metadata": {},
   "outputs": [
    {
     "name": "stdout",
     "output_type": "stream",
     "text": [
      "La methode de Jacobi converge pour la matrice A\n",
      "On trouve : x = [  5.99983778   9.99970768  11.99963549  11.99963549   9.99970768\n",
      "   5.99983778] en 100 iterations. L'erreur finale est de 0.00013854028144629868\n",
      "La methode de relaxation converge pour la matrice A\n",
      "On trouve : x = [  5.99988013   9.99980539  11.99978135  11.99980301   9.99985767\n",
      "   5.99992883] en 53 iterations pour w = 1. L'erreur finale est de 8.976361155897779e-05\n",
      "0.900968867902\n"
     ]
    }
   ],
   "source": [
    "B = 2*np.ones(6)\n",
    "tol = 0.0001\n",
    "xinit = np.zeros(6)\n",
    "w = 1\n",
    "\n",
    "infjac, xjac, itjac = mjacobi(A, B, xinit, tol, 100)\n",
    "infrel, xrel, itrel = mrelax(A, B, xinit, w, tol, 100)\n",
    "\n",
    "if infjac == 1:\n",
    "    print(\"La methode de Jacobi converge pour la matrice A\")\n",
    "    print(\"On trouve : x = {} en {} iterations. L'erreur finale est de {}\".format(xjac, itjac, np.linalg.norm(np.linalg.norm(np.dot(A, xjac) - B))))\n",
    "else:\n",
    "    print(\"La methode de Jacobi ne converge pas pour la matrice A\")\n",
    "    \n",
    "if infrel == 1:\n",
    "    print(\"La methode de relaxation converge pour la matrice A\")\n",
    "    print(\"On trouve : x = {} en {} iterations pour w = {}. L'erreur finale est de {}\".format(xrel, itrel, w,np.linalg.norm(np.linalg.norm(np.dot(A, xrel) - B))))\n",
    "else:\n",
    "    print(\"La methode de relaxation ne converge pas pour la matrice A\")\n",
    "    \n",
    "D = np.diag(np.diag(A))\n",
    "Di = np.linalg.inv(D)\n",
    "\n",
    "L = -triangle_inf(A)\n",
    "U = -triangle_sup(A)\n",
    "M = Di@(L+U)\n",
    "print(np.linalg.norm(np.linalg.eigvals(M), np.inf))"
   ]
  },
  {
   "cell_type": "code",
   "execution_count": 12,
   "metadata": {},
   "outputs": [
    {
     "data": {
      "image/png": "[encoded data removed]",
      "text/plain": [
       "<Figure size 432x288 with 1 Axes>"
      ]
     },
     "metadata": {},
     "output_type": "display_data"
    }
   ],
   "source": [
    "# on cree un tableau de valeur de w entre 0.1 et 2 (2 exclus)\n",
    "# afin d'échantillonner et laisser matplotlib tracer les courbes\n",
    "ws = np.linspace(0.1, 2, endpoint=False)\n",
    "\n",
    "#Comme précédement, on reconstruit les matrices intermédiaires aux calculs\n",
    "D = np.diag(np.diag(A))\n",
    "L = -triangle_inf(A)\n",
    "U = -triangle_sup(A)\n",
    "\n",
    "\n",
    "rhos = [] #liste stockant tous les rayons spectrals construit\n",
    "# Pour chaque w possible, on applique les memes calculs que precedemment\n",
    "for w in ws:\n",
    "    # Cette fois, M depend de w, donc on la nomme Mw\n",
    "    Mw = 1/w*D - L\n",
    "    Miw = np.linalg.inv(Mw)\n",
    "    Nw = (1-w)/w*D + U\n",
    "    # on rajoute le rayon spectral de Mw a la liste\n",
    "    # \n",
    "    rhos.append(np.linalg.norm(np.linalg.eigvals(Miw@Nw), np.inf))\n",
    "plt.title(r\"Rayon spectral en fonction de $\\omega$\")\n",
    "plt.xlabel(r\"$\\omega$\")\n",
    "plt.ylabel(r\"$\\rho$\")\n",
    "plt.plot(ws, rhos)\n",
    "plt.show()"
   ]
  },
  {
   "cell_type": "markdown",
   "metadata": {},
   "source": [
    "On observe que pour $\\omega$ proche de $\\omega_0 = 1.40$, le rayon spectrale est minimisé.\n",
    "\n",
    "On conjecture que c'est la valeur optimale pour une convergence rapide de la méthode de relaxation"
   ]
  },
  {
   "cell_type": "code",
   "execution_count": 13,
   "metadata": {},
   "outputs": [
    {
     "name": "stdout",
     "output_type": "stream",
     "text": [
      "On trouve x = [  5.99995515   9.99995237  11.99996952  11.99998122   9.99999113\n",
      "   5.99999718] en 16 iterations pour w = 1.4. L'erreur finale est de 8.976361155897779e-05\n",
      "On trouve x = [  5.9999062    9.99983129  11.99978203  11.99976583   9.99979076\n",
      "   5.99986564] en 280 iterations pour w = 1.962. L'erreur finale est de 9.916087740468423e-05\n"
     ]
    }
   ],
   "source": [
    "w0 = 1.40\n",
    "_, xrel0, itrel0 = mrelax(A, B, xinit, w0, tol, 1000)\n",
    "print(\"On trouve x = {} en {} iterations pour w = {}. L'erreur finale est de {}\".format(xrel0, itrel0, w0,np.linalg.norm(np.linalg.norm(np.dot(A, xrel) - B))))\n",
    "\n",
    "_, xrel, itrel = mrelax(A, B, xinit, w, tol, 1000)\n",
    "\n",
    "print(\"On trouve x = {} en {} iterations pour w = {}. L'erreur finale est de {}\".format(xrel, itrel, w,np.linalg.norm(np.linalg.norm(np.dot(A, xrel) - B))))"
   ]
  },
  {
   "cell_type": "code",
   "execution_count": null,
   "metadata": {},
   "outputs": [],
   "source": []
  },
  {
   "cell_type": "code",
   "execution_count": null,
   "metadata": {},
   "outputs": [],
   "source": []
  }
 ],
 "metadata": {
  "kernelspec": {
   "display_name": "Python 3",
   "language": "python",
   "name": "python3"
  },
  "language_info": {
   "codemirror_mode": {
    "name": "ipython",
    "version": 3
   },
   "file_extension": ".py",
   "mimetype": "text/x-python",
   "name": "python",
   "nbconvert_exporter": "python",
   "pygments_lexer": "ipython3",
   "version": "3.6.3"
  }
 },
 "nbformat": 4,
 "nbformat_minor": 2
}
